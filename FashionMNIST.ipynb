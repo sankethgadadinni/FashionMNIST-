{
 "cells": [
  {
   "cell_type": "code",
   "execution_count": 1,
   "metadata": {},
   "outputs": [],
   "source": [
    "import torch\n",
    "import torchvision\n",
    "from torchvision import transforms\n",
    "import torch.nn as nn\n",
    "import torch.nn.functional as F\n"
   ]
  },
  {
   "cell_type": "code",
   "execution_count": 2,
   "metadata": {},
   "outputs": [],
   "source": [
    "train = torchvision.datasets.FashionMNIST('', train=True, download=True, transform=transforms.Compose([transforms.ToTensor()]))\n",
    "test = torchvision.datasets.FashionMNIST('', train=False, download=True, transform=transforms.Compose([transforms.ToTensor()]))"
   ]
  },
  {
   "cell_type": "code",
   "execution_count": 3,
   "metadata": {},
   "outputs": [
    {
     "name": "stdout",
     "output_type": "stream",
     "text": [
      "tensor([3, 6, 5, 4, 9, 6, 4, 6, 9, 5, 1, 1, 2, 1, 0, 2, 9, 1, 7, 9, 8, 2, 7, 2,\n",
      "        5, 8, 1, 3, 3, 3, 5, 5, 5, 0, 3, 8, 7, 0, 6, 1, 1, 9, 9, 0, 0, 9, 8, 2,\n",
      "        9, 7, 2, 0, 5, 2, 3, 7, 9, 8, 3, 9, 3, 4, 1, 0, 0, 2, 8, 1, 4, 0, 7, 7,\n",
      "        7, 0, 9, 5, 8, 9, 7, 6, 7, 6, 0, 7, 0, 9, 8, 5, 7, 9, 4, 6, 1, 4, 4, 7,\n",
      "        0, 8, 3, 6])\n"
     ]
    }
   ],
   "source": [
    "train_set = torch.utils.data.DataLoader(dataset=train, batch_size=100, shuffle=True)\n",
    "test_set = torch.utils.data.DataLoader(dataset=test, batch_size=100, shuffle=False)\n",
    "\n",
    "\n",
    "for data in train_set:\n",
    "    image,label = data\n",
    "    print(label)\n",
    "    break"
   ]
  },
  {
   "cell_type": "code",
   "execution_count": 4,
   "metadata": {},
   "outputs": [
    {
     "data": {
      "text/plain": [
       "torch.Size([100, 1, 28, 28])"
      ]
     },
     "execution_count": 4,
     "metadata": {},
     "output_type": "execute_result"
    }
   ],
   "source": [
    "import matplotlib.pyplot as plt\n",
    "image.shape"
   ]
  },
  {
   "cell_type": "code",
   "execution_count": 5,
   "metadata": {},
   "outputs": [
    {
     "data": {
      "text/plain": [
       "<matplotlib.image.AxesImage at 0x2480951f100>"
      ]
     },
     "execution_count": 5,
     "metadata": {},
     "output_type": "execute_result"
    },
    {
     "data": {
      "image/png": "[encoded data removed]",
      "text/plain": [
       "<Figure size 432x288 with 1 Axes>"
      ]
     },
     "metadata": {
      "needs_background": "light"
     },
     "output_type": "display_data"
    }
   ],
   "source": [
    "plt.imshow(image[0].squeeze(),cmap='gray')"
   ]
  },
  {
   "cell_type": "code",
   "execution_count": 6,
   "metadata": {},
   "outputs": [
    {
     "name": "stdout",
     "output_type": "stream",
     "text": [
      "Net(\n",
      "  (conv1): Conv2d(1, 6, kernel_size=(5, 5), stride=(1, 1))\n",
      "  (conv2): Conv2d(6, 12, kernel_size=(5, 5), stride=(1, 1))\n",
      "  (fc1): Linear(in_features=192, out_features=120, bias=True)\n",
      "  (fc2): Linear(in_features=120, out_features=64, bias=True)\n",
      "  (out): Linear(in_features=64, out_features=10, bias=True)\n",
      ")\n"
     ]
    }
   ],
   "source": [
    "class Net(nn.Module):\n",
    "    def __init__(self):\n",
    "        super().__init__()\n",
    "        \n",
    "        self.conv1 = nn.Conv2d(in_channels=1, out_channels=6, kernel_size=5)\n",
    "        self.conv2 = nn.Conv2d(in_channels=6, out_channels=12, kernel_size=5)\n",
    "        \n",
    "        self.fc1 = nn.Linear(in_features=12*4*4, out_features=120)\n",
    "        self.fc2 = nn.Linear(in_features=120, out_features=64)\n",
    "        self.out = nn.Linear(in_features=64, out_features=10)\n",
    "        \n",
    "    def forward(self, x):\n",
    "        x = self.conv1(x)\n",
    "        x = F.relu(x)\n",
    "        x = F.max_pool2d(x, kernel_size=2 , stride=2)\n",
    "        \n",
    "        x = self.conv2(x)\n",
    "        x = F.relu(x)\n",
    "        x = F.max_pool2d(x, kernel_size=2, stride=2)\n",
    "        \n",
    "        x = x.reshape(-1,12*4*4)\n",
    "        x = self.fc1(x)\n",
    "        x = F.relu(x)\n",
    "        \n",
    "        x = self.fc2(x)\n",
    "        x = F.relu(x)\n",
    "        \n",
    "        x = self.out(x)\n",
    "        return x \n",
    "net = Net()\n",
    "print(net)"
   ]
  },
  {
   "cell_type": "code",
   "execution_count": 7,
   "metadata": {},
   "outputs": [
    {
     "data": {
      "text/plain": [
       "tensor([[ 0.0611,  0.0749, -0.0880,  0.0255, -0.0056,  0.0808,  0.0014, -0.0525,\n",
       "         -0.0542,  0.0760]], grad_fn=<AddmmBackward>)"
      ]
     },
     "execution_count": 7,
     "metadata": {},
     "output_type": "execute_result"
    }
   ],
   "source": [
    "image = torch.rand(1,1,28,28)\n",
    "preds = net(image)\n",
    "preds\n"
   ]
  },
  {
   "cell_type": "code",
   "execution_count": 8,
   "metadata": {},
   "outputs": [
    {
     "name": "stdout",
     "output_type": "stream",
     "text": [
      "tensor(0.6535, grad_fn=<NllLossBackward>)\n",
      "tensor(0.5215, grad_fn=<NllLossBackward>)\n",
      "tensor(0.5084, grad_fn=<NllLossBackward>)\n",
      "tensor(0.5542, grad_fn=<NllLossBackward>)\n",
      "tensor(0.3295, grad_fn=<NllLossBackward>)\n",
      "tensor(0.3328, grad_fn=<NllLossBackward>)\n",
      "tensor(0.3532, grad_fn=<NllLossBackward>)\n",
      "tensor(0.3862, grad_fn=<NllLossBackward>)\n",
      "tensor(0.3377, grad_fn=<NllLossBackward>)\n",
      "tensor(0.2763, grad_fn=<NllLossBackward>)\n",
      "tensor(0.3704, grad_fn=<NllLossBackward>)\n",
      "tensor(0.2163, grad_fn=<NllLossBackward>)\n",
      "tensor(0.3201, grad_fn=<NllLossBackward>)\n",
      "tensor(0.3417, grad_fn=<NllLossBackward>)\n",
      "tensor(0.2324, grad_fn=<NllLossBackward>)\n",
      "tensor(0.3636, grad_fn=<NllLossBackward>)\n",
      "tensor(0.2381, grad_fn=<NllLossBackward>)\n",
      "tensor(0.2529, grad_fn=<NllLossBackward>)\n",
      "tensor(0.3633, grad_fn=<NllLossBackward>)\n",
      "tensor(0.2962, grad_fn=<NllLossBackward>)\n",
      "tensor(0.3541, grad_fn=<NllLossBackward>)\n",
      "tensor(0.2003, grad_fn=<NllLossBackward>)\n",
      "tensor(0.1762, grad_fn=<NllLossBackward>)\n",
      "tensor(0.2881, grad_fn=<NllLossBackward>)\n",
      "tensor(0.3621, grad_fn=<NllLossBackward>)\n"
     ]
    }
   ],
   "source": [
    "import torch.optim as optim\n",
    "\n",
    "optimizer = optim.Adam(net.parameters(), lr=0.001)\n",
    "\n",
    "epochs = 25\n",
    "\n",
    "for epoch in range(epochs):\n",
    "    losses = []\n",
    "    for batch in train_set:\n",
    "        images , labels = batch\n",
    "        \n",
    "        preds = net(images)\n",
    "        loss = F.cross_entropy(preds, labels)\n",
    "        optimizer.zero_grad()\n",
    "        loss.backward()\n",
    "        optimizer.step() \n",
    "        losses.append(loss)\n",
    "    print(loss)\n",
    "   \n",
    "        \n",
    "        \n",
    "        "
   ]
  },
  {
   "cell_type": "code",
   "execution_count": 9,
   "metadata": {},
   "outputs": [
    {
     "name": "stdout",
     "output_type": "stream",
     "text": [
      "accuracy:  0.89\n"
     ]
    }
   ],
   "source": [
    "correct = 0\n",
    "total = 0\n",
    "\n",
    "with torch.no_grad():\n",
    "    for batch in test_set:\n",
    "        images, labels = batch\n",
    "        preds = net(images)\n",
    "        \n",
    "        for j, i in enumerate(preds):\n",
    "            if torch.argmax(i) == labels[j]:\n",
    "                correct += 1\n",
    "            total += 1    \n",
    "print('accuracy: ' ,(round(correct/total, 3))) "
   ]
  },
  {
   "cell_type": "code",
   "execution_count": null,
   "metadata": {},
   "outputs": [],
   "source": []
  },
  {
   "cell_type": "code",
   "execution_count": null,
   "metadata": {},
   "outputs": [],
   "source": []
  },
  {
   "cell_type": "code",
   "execution_count": null,
   "metadata": {},
   "outputs": [],
   "source": []
  },
  {
   "cell_type": "code",
   "execution_count": null,
   "metadata": {},
   "outputs": [],
   "source": []
  }
 ],
 "metadata": {
  "kernelspec": {
   "display_name": "Python 3",
   "language": "python",
   "name": "python3"
  },
  "language_info": {
   "codemirror_mode": {
    "name": "ipython",
    "version": 3
   },
   "file_extension": ".py",
   "mimetype": "text/x-python",
   "name": "python",
   "nbconvert_exporter": "python",
   "pygments_lexer": "ipython3",
   "version": "3.8.3"
  }
 },
 "nbformat": 4,
 "nbformat_minor": 4
}
